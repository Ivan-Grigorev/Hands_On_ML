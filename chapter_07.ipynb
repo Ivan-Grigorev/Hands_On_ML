{
 "cells": [
  {
   "cell_type": "markdown",
   "id": "688dd2e9-0cc4-48b8-a6de-3304a4f2cc84",
   "metadata": {},
   "source": [
    "<h1>Chapter 07. Ensemble Learning and Random Forests.</h1>"
   ]
  }
 ],
 "metadata": {
  "kernelspec": {
   "display_name": "Python 3 (ipykernel)",
   "language": "python",
   "name": "python3"
  },
  "language_info": {
   "codemirror_mode": {
    "name": "ipython",
    "version": 3
   },
   "file_extension": ".py",
   "mimetype": "text/x-python",
   "name": "python",
   "nbconvert_exporter": "python",
   "pygments_lexer": "ipython3",
   "version": "3.12.1"
  }
 },
 "nbformat": 4,
 "nbformat_minor": 5
}
