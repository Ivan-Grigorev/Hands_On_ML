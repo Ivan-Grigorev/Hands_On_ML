{
 "cells": [
  {
   "cell_type": "markdown",
   "id": "7f2dbb9a-2b2b-462d-a543-e8e98e4bb0c9",
   "metadata": {},
   "source": [
    "<h1>Chapter 04. Training Models</h1>"
   ]
  },
  {
   "cell_type": "code",
   "execution_count": null,
   "id": "8621dbf7-377c-41f0-b468-78179f14678e",
   "metadata": {},
   "outputs": [],
   "source": []
  }
 ],
 "metadata": {
  "kernelspec": {
   "display_name": "Python 3 (ipykernel)",
   "language": "python",
   "name": "python3"
  },
  "language_info": {
   "codemirror_mode": {
    "name": "ipython",
    "version": 3
   },
   "file_extension": ".py",
   "mimetype": "text/x-python",
   "name": "python",
   "nbconvert_exporter": "python",
   "pygments_lexer": "ipython3",
   "version": "3.11.6"
  }
 },
 "nbformat": 4,
 "nbformat_minor": 5
}
