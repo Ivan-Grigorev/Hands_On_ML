{
 "cells": [
  {
   "cell_type": "markdown",
   "id": "d26f0dca-ac4b-47e0-84c4-d4c1840af752",
   "metadata": {},
   "source": [
    "<h1>Chapter 05. Support Vector Machine - SVM</h1>"
   ]
  },
  {
   "cell_type": "code",
   "execution_count": null,
   "id": "6f1c465a-d222-43ca-89b7-d77ec93f6b20",
   "metadata": {},
   "outputs": [],
   "source": []
  }
 ],
 "metadata": {
  "kernelspec": {
   "display_name": "Python 3 (ipykernel)",
   "language": "python",
   "name": "python3"
  },
  "language_info": {
   "codemirror_mode": {
    "name": "ipython",
    "version": 3
   },
   "file_extension": ".py",
   "mimetype": "text/x-python",
   "name": "python",
   "nbconvert_exporter": "python",
   "pygments_lexer": "ipython3",
   "version": "3.12.0"
  }
 },
 "nbformat": 4,
 "nbformat_minor": 5
}
