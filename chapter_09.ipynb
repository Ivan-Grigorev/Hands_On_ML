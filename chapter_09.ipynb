{
 "cells": [
  {
   "cell_type": "markdown",
   "id": "a99273db-ad23-42e0-98f3-5820dc8d9379",
   "metadata": {},
   "source": [
    "<h1>Chapter 09. Up and Running with TensorFlow</h1>"
   ]
  },
  {
   "cell_type": "markdown",
   "id": "1493c2cf-579b-42c9-9322-b0b7bf36413a",
   "metadata": {},
   "source": [
    "**TensorFlow** is an open-source machine learning framework developed by Google Brain for building and training various types of machine learning models, including deep learning neural networks. It provides a comprehensive ecosystem of tools, libraries, and resources for tasks such as data preprocessing, model building, training, deployment, and inference. TensorFlow supports both CPU and GPU computations, allowing for efficient processing of large-scale datasets and complex models. It's widely used in research, industry, and academia for a diverse range of machine learning and artificial intelligence applications."
   ]
  },
  {
   "cell_type": "markdown",
   "id": "3894a72e-2043-4b10-961f-5bb219e4e00e",
   "metadata": {},
   "source": [
    "<h2>Creating and Running a first Graph</h2>"
   ]
  },
  {
   "cell_type": "markdown",
   "id": "1a43fc88-f074-498e-b4bb-2ea6c3ab2d8c",
   "metadata": {},
   "source": [
    "Creating a graph"
   ]
  },
  {
   "cell_type": "code",
   "execution_count": 1,
   "id": "39913489-39ed-4611-a56c-1ffa68e47df1",
   "metadata": {},
   "outputs": [],
   "source": [
    "# Import TensorFlow version 1 compatibility module as tf\n",
    "import tensorflow.compat.v1 as tf\n",
    "\n",
    "\n",
    "# Disable eager execution\n",
    "tf.disable_eager_execution()\n",
    "\n",
    "# Define TensorFlow variables with initial values\n",
    "x = tf.Variable(initial_value=3, name='x')\n",
    "y = tf.Variable(initial_value=4, name='y')\n",
    "\n",
    "# Define computational graph\n",
    "f = x * x * y + y + 2"
   ]
  },
  {
   "cell_type": "markdown",
   "id": "7c5421cb-0f18-421a-823e-6ac59ef71349",
   "metadata": {},
   "source": [
    "To run the graph, a TensorFlow session must be opened and used to initialize variables and evaluate `f`. The following code creates a session, initializes variables, computes `f`, and closes the session (freeing resources)."
   ]
  },
  {
   "cell_type": "code",
   "execution_count": 2,
   "id": "ba2780bd-d2ed-4789-a314-7bab30be48e7",
   "metadata": {},
   "outputs": [
    {
     "name": "stderr",
     "output_type": "stream",
     "text": [
      "2024-03-21 12:47:09.792380: I tensorflow/compiler/mlir/mlir_graph_optimization_pass.cc:388] MLIR V1 optimization pass is not enabled\n"
     ]
    },
    {
     "data": {
      "text/plain": [
       "42"
      ]
     },
     "execution_count": 2,
     "metadata": {},
     "output_type": "execute_result"
    }
   ],
   "source": [
    "sess = tf.Session()  # create session\n",
    "\n",
    "sess.run(x.initializer)  # initialize x\n",
    "sess.run(y.initializer)  # initialize y\n",
    "\n",
    "result = sess.run(f)  # execute the computation f\n",
    "result"
   ]
  },
  {
   "cell_type": "code",
   "execution_count": 3,
   "id": "ef9e751e-3e01-4e9c-8d1e-ab6201fa82ce",
   "metadata": {},
   "outputs": [],
   "source": [
    "sess.close()"
   ]
  },
  {
   "cell_type": "markdown",
   "id": "9e59a23d-91b0-4978-9cfb-df7815bb7eb1",
   "metadata": {},
   "source": [
    "Rather than individually executing the initializer for each variable, it is more efficiant to utilize `global_variables_initializer()`. Repeatedly calling `sess.run` for initialization can become cumbersome; however, there exists a more streamlined approach: "
   ]
  },
  {
   "cell_type": "code",
   "execution_count": 4,
   "id": "dcc59f03-6ab1-41a8-8292-32f244dfcae7",
   "metadata": {},
   "outputs": [
    {
     "data": {
      "text/plain": [
       "42"
      ]
     },
     "execution_count": 4,
     "metadata": {},
     "output_type": "execute_result"
    }
   ],
   "source": [
    "init = tf.global_variables_initializer()\n",
    "\n",
    "with tf.Session() as sess:\n",
    "    init.run()\n",
    "    result = f.eval()\n",
    "\n",
    "result"
   ]
  },
  {
   "cell_type": "markdown",
   "id": "b26f0294-39f9-4935-be2a-a8dbf4f279bd",
   "metadata": {},
   "source": [
    "`InteractiveSession()` in TensorFlow allows you to work interactively, seamlessly combining graph and execution without needing a `with` block. It's convenient for interactive environments like Jupyter notebooks, but remember to close the session manually to free up resources. "
   ]
  },
  {
   "cell_type": "code",
   "execution_count": 5,
   "id": "18ea6148-19a3-4903-a881-3cad6c7f5bd4",
   "metadata": {},
   "outputs": [
    {
     "data": {
      "text/plain": [
       "42"
      ]
     },
     "execution_count": 5,
     "metadata": {},
     "output_type": "execute_result"
    }
   ],
   "source": [
    "sess = tf.InteractiveSession()\n",
    "\n",
    "init.run()\n",
    "result = f.eval()\n",
    "result"
   ]
  },
  {
   "cell_type": "code",
   "execution_count": 6,
   "id": "c0b14eae-fa97-4b23-b480-e22fd6dd807d",
   "metadata": {},
   "outputs": [],
   "source": [
    "sess.close()"
   ]
  },
  {
   "cell_type": "markdown",
   "id": "5d8826cd-b13d-4e8f-ad46-7b4edf1bd389",
   "metadata": {},
   "source": [
    "<h2>Managing Graphs</h2>"
   ]
  },
  {
   "cell_type": "code",
   "execution_count": 7,
   "id": "17201d62-37dc-4c6d-b757-f8edbb1f3f2a",
   "metadata": {},
   "outputs": [
    {
     "data": {
      "text/plain": [
       "True"
      ]
     },
     "execution_count": 7,
     "metadata": {},
     "output_type": "execute_result"
    }
   ],
   "source": [
    "tf.reset_default_graph()\n",
    "\n",
    "x1 = tf.Variable(1)\n",
    "\n",
    "x1.graph is tf.get_default_graph()"
   ]
  },
  {
   "cell_type": "code",
   "execution_count": 8,
   "id": "a4d862b5-dc7c-4bd5-9ec5-d017b08a561d",
   "metadata": {},
   "outputs": [
    {
     "data": {
      "text/plain": [
       "True"
      ]
     },
     "execution_count": 8,
     "metadata": {},
     "output_type": "execute_result"
    }
   ],
   "source": [
    "graph = tf.Graph()\n",
    "\n",
    "with graph.as_default():\n",
    "    x2 = tf.Variable(2)\n",
    "\n",
    "x2.graph is graph"
   ]
  },
  {
   "cell_type": "code",
   "execution_count": 9,
   "id": "5f2a0328-e324-4afa-8571-dd47c939783b",
   "metadata": {},
   "outputs": [
    {
     "data": {
      "text/plain": [
       "False"
      ]
     },
     "execution_count": 9,
     "metadata": {},
     "output_type": "execute_result"
    }
   ],
   "source": [
    "x2.graph is tf.get_default_graph()"
   ]
  },
  {
   "cell_type": "markdown",
   "id": "c8aac545-99d6-4007-a48f-60fdabf0b648",
   "metadata": {},
   "source": [
    "<h2>Lifecycle of a Node Value</h2>"
   ]
  },
  {
   "cell_type": "code",
   "execution_count": 10,
   "id": "fd625b5a-4201-42c1-ad98-238d84ed1b91",
   "metadata": {},
   "outputs": [
    {
     "name": "stdout",
     "output_type": "stream",
     "text": [
      "10\n",
      "15\n"
     ]
    }
   ],
   "source": [
    "w = tf.constant(3)\n",
    "x = w + 2\n",
    "y = x + 5\n",
    "z = x * 3\n",
    "\n",
    "with tf.Session() as sess:\n",
    "    print(y.eval())\n",
    "    print(z.eval())"
   ]
  },
  {
   "cell_type": "code",
   "execution_count": 11,
   "id": "767e381a-07cf-4eb2-9e04-6ecee63c2256",
   "metadata": {},
   "outputs": [
    {
     "name": "stdout",
     "output_type": "stream",
     "text": [
      "10\n",
      "15\n"
     ]
    }
   ],
   "source": [
    "with tf.Session() as sess:\n",
    "    y_val, z_val = sess.run([y, z])\n",
    "    print(y_val)\n",
    "    print(z_val)"
   ]
  },
  {
   "cell_type": "code",
   "execution_count": null,
   "id": "48fb4ff9-14ea-45ec-b388-34b06e7fc228",
   "metadata": {},
   "outputs": [],
   "source": []
  }
 ],
 "metadata": {
  "kernelspec": {
   "display_name": "Python 3 (ipykernel)",
   "language": "python",
   "name": "python3"
  },
  "language_info": {
   "codemirror_mode": {
    "name": "ipython",
    "version": 3
   },
   "file_extension": ".py",
   "mimetype": "text/x-python",
   "name": "python",
   "nbconvert_exporter": "python",
   "pygments_lexer": "ipython3",
   "version": "3.12.1"
  }
 },
 "nbformat": 4,
 "nbformat_minor": 5
}
