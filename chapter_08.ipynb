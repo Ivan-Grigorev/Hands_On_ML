{
 "cells": [
  {
   "cell_type": "markdown",
   "id": "02f39af4-3108-4e03-9c27-4e9b08031eea",
   "metadata": {},
   "source": [
    "<h1>Chapter 08. Dimensionality Reduction</h1>"
   ]
  },
  {
   "cell_type": "code",
   "execution_count": null,
   "id": "3c412b50-b710-4351-ad01-f54980ade984",
   "metadata": {},
   "outputs": [],
   "source": []
  }
 ],
 "metadata": {
  "kernelspec": {
   "display_name": "Python 3 (ipykernel)",
   "language": "python",
   "name": "python3"
  },
  "language_info": {
   "codemirror_mode": {
    "name": "ipython",
    "version": 3
   },
   "file_extension": ".py",
   "mimetype": "text/x-python",
   "name": "python",
   "nbconvert_exporter": "python",
   "pygments_lexer": "ipython3",
   "version": "3.12.1"
  }
 },
 "nbformat": 4,
 "nbformat_minor": 5
}
